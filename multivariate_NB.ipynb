{
 "cells": [
  {
   "cell_type": "code",
   "execution_count": 1,
   "metadata": {},
   "outputs": [],
   "source": [
    "import numpy as np\n",
    "import math\n",
    "from scipy.stats import multivariate_normal\n",
    "import matplotlib.pyplot as plt\n"
   ]
  },
  {
   "cell_type": "code",
   "execution_count": 2,
   "metadata": {},
   "outputs": [],
   "source": [
    "def generate_dataset(n_samples, mean1, cov1, mean2, cov2, prior_0):\n",
    "    dataset=[]\n",
    "    for i in range(n_samples):\n",
    "        Y_current = np.random.binomial(n=1, p=prior_0, size=1)      #tossCoin(p)\n",
    "        if Y_current == 0:\n",
    "            X_current = np.random.multivariate_normal(mean1, cov1, 1)\n",
    "        else:\n",
    "            X_current = np.random.multivariate_normal(mean2, cov2, 1)\n",
    "        dataset.append([X_current[0][0], X_current[0][1], X_current[0][2], X_current[0][3], X_current[0][4], X_current[0][5], Y_current[0]])\n",
    "    return dataset"
   ]
  },
  {
   "cell_type": "code",
   "execution_count": 3,
   "metadata": {},
   "outputs": [],
   "source": [
    "def generate_dataset_class0(n_samples, mean1, cov1):\n",
    "    return np.random.multivariate_normal(mean1, cov1, n_samples)"
   ]
  },
  {
   "cell_type": "code",
   "execution_count": 4,
   "metadata": {},
   "outputs": [],
   "source": [
    "def train_test_split(data, train_per):\n",
    "    \n",
    "    #Shuffling the data \n",
    "    #data = data.sample(frac=1,random_state=1)\n",
    "    \n",
    "    # test set and train set \n",
    "    train, test = np.split(data,[int(train_per * len(data))])\n",
    "    \n",
    "    #Spliting fetures and labels\n",
    "    X_test, Y_test = np.delete(test,6,1), np.delete(test,[0,1,2,3,4,5],1).flatten()\n",
    "    X_train, Y_train = np.delete(train,6,1), np.delete(train,[0,1,2,3,4,5],1).flatten()\n",
    "    \n",
    "    return X_train,X_test,Y_train,Y_test"
   ]
  },
  {
   "cell_type": "code",
   "execution_count": 5,
   "metadata": {},
   "outputs": [],
   "source": [
    "class multivariate_NP:\n",
    "\n",
    "    def re_dim_x(self, x):\n",
    "        return x[...,np.newaxis] if (x.ndim == 2) else x\n",
    "    def fit(self,x,y):\n",
    "        #x= self.re_dim_x(x)\n",
    "        self.mean_0 = np.average(x[y==0],axis=0)\n",
    "        self.mean_1 = np.average(x[y==1],axis=0)\n",
    "        #self.sigma= np.einsum('ijk,ikj->jk',x-self.mean_0,x-self.mean_0) /(x.shape[0]-1)\n",
    "        self.cov_0 = np.cov( x[y==0],rowvar=False)\n",
    "        self.cov_1 = np.cov(x[y==1],rowvar=False)\n",
    "\n",
    "        self.p0 = y[y==0].shape[0]/y.shape[0]\n",
    "        self.p1 = 1-self.p0\n",
    "        #print(self.mean_1,self.cov_1)\n",
    "\n",
    "\n",
    "    def predict(self, X,k):\n",
    "        y_pred = [self.helper_predict(x,k) for x in X]\n",
    "        return np.array(y_pred)\n",
    "    \n",
    "    def helper_predict(self, x,k):\n",
    "        data = np.array([x])\n",
    "        likelihood_0 = multivariate_normal.pdf(data, self.mean_0, self.cov_0)\n",
    "        likelihood_1 = multivariate_normal.pdf(data, self.mean_1, self.cov_1)\n",
    "        if likelihood_1/likelihood_0 > k :\n",
    "            return 1\n",
    "        else :\n",
    "            return 0\n",
    "    \n",
    "    def estimate_k(self, X, k, alpha):\n",
    "        lambda_c = self.estimate_lambda(X, k)\n",
    "        queue=[-1,-1]\n",
    "        incr=1\n",
    "        queue.append(lambda_c)\n",
    "        while abs(lambda_c-alpha)>=0.005:\n",
    "            if(queue[0] == queue[2] and queue[0] == queue[1]):\n",
    "                incr*=2\n",
    "            elif(queue[0] == queue[2] and queue[0] != queue[1]):\n",
    "                incr /= 2\n",
    "            #print(lambda_c,k,end=\" \")\n",
    "            if lambda_c < alpha:\n",
    "                k -= incr\n",
    "            else:\n",
    "                k += incr\n",
    "            lambda_c = self.estimate_lambda(X,k)\n",
    "            queue.pop(0)\n",
    "            queue.append(lambda_c)\n",
    "\n",
    "        #print(\"current value of alpha approximately for given alpha:\", alpha, \"is :\", lambda_c)\n",
    "        return k\n",
    "  \n",
    "    def estimate_lambda(self, X, k):\n",
    "        count = 0; i = 0\n",
    "        for x in X:\n",
    "            data = np.array([x])\n",
    "            #print(data.shape)\n",
    "            fx_0 = multivariate_normal.pdf(data, self.mean_0, self.cov_0)\n",
    "            fx_1 = multivariate_normal.pdf(data, self.mean_1, self.cov_1)\n",
    "            if fx_1/fx_0 > k :\n",
    "                count += 1\n",
    "        #print(count)\n",
    "        return count/len(X)"
   ]
  },
  {
   "cell_type": "code",
   "execution_count": 6,
   "metadata": {},
   "outputs": [],
   "source": [
    "class multivariate_gausian:\n",
    "\n",
    "    def fit(self,x,y):\n",
    "        self.mean_0 = np.average(x[y==0], axis=0)\n",
    "        self.mean_1 = np.average(x[y==1], axis=0)\n",
    "        self.cov_0 = np.cov( x[y==0], rowvar = False)\n",
    "        self.cov_1 = np.cov( x[y==1], rowvar = False)\n",
    "        self.p0 = y[y==0].shape[0] / y.shape[0]\n",
    "        self.p1 = 1-self.p0\n",
    "        print(self.mean_1, self.cov_1)\n",
    "\n",
    "    def predict(self, X):\n",
    "        \n",
    "        y_pred = [self.helper_predict(x) for x in X]\n",
    "        return np.array(y_pred)\n",
    "    \n",
    "    def helper_predict(self, x):\n",
    "        \n",
    "        data = np.array([x])\n",
    "        likelihood_0 = multivariate_normal.pdf(data, self.mean_0, self.cov_0)\n",
    "        likelihood_1 = multivariate_normal.pdf(data, self.mean_1, self.cov_1)\n",
    "        if likelihood_1*self.p1 > likelihood_0*self.p0  :\n",
    "            return 1\n",
    "        else:\n",
    "            return 0"
   ]
  },
  {
   "cell_type": "code",
   "execution_count": 7,
   "metadata": {},
   "outputs": [],
   "source": [
    "def accurecy(Y_test, Y_pred):\n",
    "  f_p,t_n,t_p,f_n,i=0,0,0,0,0\n",
    "  while i<len(Y_pred):\n",
    "    if (Y_pred[i] != Y_test[i]):\n",
    "      if (Y_pred[i]==1):\n",
    "        f_p += 1\n",
    "      else:\n",
    "        f_n += 1\n",
    "    elif  (Y_pred[i] == Y_test[i]):\n",
    "      if (Y_pred[i]==1):\n",
    "        t_p += 1\n",
    "      else:\n",
    "        t_n += 1\n",
    "    i+=1\n",
    "  accurecy = (t_p + t_n) / len(Y_test)\n",
    "  return t_n, f_p, f_n, t_p, accurecy*100"
   ]
  },
  {
   "cell_type": "code",
   "execution_count": 8,
   "metadata": {},
   "outputs": [
    {
     "name": "stdout",
     "output_type": "stream",
     "text": [
      "(5000, 6) (5000, 6) (5000,)\n"
     ]
    }
   ],
   "source": [
    "#Drive Code\n",
    "n_samples=10000\n",
    "prior_0=0.5\n",
    "prior_1= 1-prior_0\n",
    "\n",
    "#mean and covariance for class-0\n",
    "mean1 = np.array([0, 0, 0, 0 , 0, 0])\n",
    "u=[1,1,1,1,1,1]\n",
    "cov1 = np.diag(u)\n",
    "#np.array([[1, 0, 0,0], [0, 1, 0],[0, 0, 1]])  # diagonal covariance\n",
    "\n",
    "#mean and covariance for class-1\n",
    "mean2 = np.array([1, 1, 1, 1, 1, 1])\n",
    "v=[1,2,3,5,2,1]\n",
    "cov2 = np.diag(v)\n",
    "\n",
    "#Threshold for type-1 error\n",
    "alpha_set=np.array([0.01,0.03, 0.05, 0.08, 0.1, 0.2, 0.3, 0.5,0.8]) \n",
    "k=3\n",
    "k_list=[]\n",
    "dataset= generate_dataset(n_samples,mean1,cov1,mean2,cov2,prior_0)\n",
    "#print(dataset)\n",
    "\n",
    "X_train, X_test, Y_train, Y_test = train_test_split(dataset,0.5)\n",
    "print(X_train.shape,X_test.shape, Y_test.shape)\n",
    "\n",
    "\n",
    "dataset_c0 = generate_dataset_class0(n_samples, mean1, cov1)\n"
   ]
  },
  {
   "cell_type": "code",
   "execution_count": 9,
   "metadata": {},
   "outputs": [
    {
     "name": "stdout",
     "output_type": "stream",
     "text": [
      "[1.04140436 1.01217563 0.96083983 0.98531772 1.02011258 0.97710672] [[ 9.98186954e-01  1.51243889e-02  1.21759462e-02 -3.50557354e-02\n",
      "  -2.10692571e-02 -9.01185684e-03]\n",
      " [ 1.51243889e-02  1.98947916e+00 -9.13578898e-02 -7.74888940e-02\n",
      "   2.11877124e-02 -6.50788014e-03]\n",
      " [ 1.21759462e-02 -9.13578898e-02  3.07074451e+00 -1.56677242e-02\n",
      "  -4.25635687e-02  4.94547893e-02]\n",
      " [-3.50557354e-02 -7.74888940e-02 -1.56677242e-02  5.16720597e+00\n",
      "  -7.97233437e-02  3.89294915e-02]\n",
      " [-2.10692571e-02  2.11877124e-02 -4.25635687e-02 -7.97233437e-02\n",
      "   2.10737084e+00 -1.76989829e-03]\n",
      " [-9.01185684e-03 -6.50788014e-03  4.94547893e-02  3.89294915e-02\n",
      "  -1.76989829e-03  9.94684311e-01]]\n",
      "True Positive ,False Positive, accuracy of gausian : (2332, 215, 316, 2137, 89.38000000000001)\n"
     ]
    }
   ],
   "source": [
    "model=multivariate_gausian()\n",
    "model.fit(X_train,Y_train)\n",
    "Y_pred =model.predict(X_test)\n",
    "print(\"True Positive ,False Positive, accuracy of gausian :\",accurecy(Y_test, Y_pred))\n"
   ]
  },
  {
   "cell_type": "code",
   "execution_count": 10,
   "metadata": {},
   "outputs": [
    {
     "name": "stdout",
     "output_type": "stream",
     "text": [
      "K_list for given type1 error threshold [5, 2.5, 1.5, 1, 0.75, 0.34375, 0.1875, 0.0703125, 0.015625]\n",
      "Type 1 error <=0.01, true_negative : 2510.0, false positives : 37.0, false_negative :665.0, true positives : 1788.0, accuracy : 85.96000000000001 %\n",
      "Type 1 error <=0.03, true_negative : 2474.0, false positives : 73.0, false_negative :519.0, true positives : 1934.0, accuracy : 88.16000000000001 %\n",
      "Type 1 error <=0.05, true_negative : 2420.0, false positives : 127.0, false_negative :409.0, true positives : 2044.0, accuracy : 89.28 %\n",
      "Type 1 error <=0.08, true_negative : 2343.0, false positives : 204.0, false_negative :326.0, true positives : 2127.0, accuracy : 89.4 %\n",
      "Type 1 error <=0.1, true_negative : 2280.0, false positives : 267.0, false_negative :276.0, true positives : 2177.0, accuracy : 89.14 %\n",
      "Type 1 error <=0.2, true_negative : 2049.0, false positives : 498.0, false_negative :163.0, true positives : 2290.0, accuracy : 86.78 %\n",
      "Type 1 error <=0.3, true_negative : 1812.0, false positives : 735.0, false_negative :99.0, true positives : 2354.0, accuracy : 83.32000000000001 %\n",
      "Type 1 error <=0.5, true_negative : 1280.0, false positives : 1267.0, false_negative :46.0, true positives : 2407.0, accuracy : 73.74000000000001 %\n",
      "Type 1 error <=0.8, true_negative : 558.0, false positives : 1989.0, false_negative :7.0, true positives : 2446.0, accuracy : 60.08 %\n"
     ]
    }
   ],
   "source": [
    "model= multivariate_NP()\n",
    "model.fit(X_train,Y_train)\n",
    "\n",
    "\n",
    "for alpha in alpha_set:\n",
    "    k_list.append(model.estimate_k(dataset_c0, k, alpha))\n",
    "print(\"K_list for given type1 error threshold\", k_list)\n",
    "\n",
    "true_positive=np.zeros(len(alpha_set))\n",
    "false_positive=np.zeros(len(alpha_set))\n",
    "true_negative=np.zeros(len(alpha_set))\n",
    "false_negative=np.zeros(len(alpha_set))\n",
    "accuracy=np.zeros(len(alpha_set))\n",
    "\n",
    "for i in range(len(alpha_set)):\n",
    "    Y_pred = model.predict(X_test, k_list[i])\n",
    "    true_negative[i], false_positive[i], false_negative[i], true_positive[i], accuracy[i] = accurecy(Y_test, Y_pred)\n",
    "\n",
    "#printing fp,tp,accuracy for different threshould alpha\n",
    "for i in range(len(alpha_set)):\n",
    "    print(\"Type 1 error <={}, true_negative : {}, false positives : {}, false_negative :{}, true positives : {}, accuracy : {} %\".format(alpha_set[i], true_negative[i], false_positive[i], false_negative[i], true_positive[i], accuracy[i]))\n",
    "\n",
    "\n"
   ]
  },
  {
   "cell_type": "code",
   "execution_count": 11,
   "metadata": {},
   "outputs": [
    {
     "data": {
      "image/png": "[encoded data removed]",
      "text/plain": [
       "<Figure size 432x288 with 1 Axes>"
      ]
     },
     "metadata": {
      "needs_background": "light"
     },
     "output_type": "display_data"
    }
   ],
   "source": [
    "#plotting ROC graph\n",
    "plt.plot(false_positive,true_positive)\n",
    "plt.xlabel(\"False Positives\")\n",
    "plt.ylabel(\"True Positives\")\n",
    "plt.show()"
   ]
  },
  {
   "cell_type": "code",
   "execution_count": null,
   "metadata": {},
   "outputs": [],
   "source": []
  }
 ],
 "metadata": {
  "kernelspec": {
   "display_name": "Python 3.10.4 64-bit",
   "language": "python",
   "name": "python3"
  },
  "language_info": {
   "codemirror_mode": {
    "name": "ipython",
    "version": 3
   },
   "file_extension": ".py",
   "mimetype": "text/x-python",
   "name": "python",
   "nbconvert_exporter": "python",
   "pygments_lexer": "ipython3",
   "version": "3.10.5"
  },
  "orig_nbformat": 4,
  "vscode": {
   "interpreter": {
    "hash": "93d5bb0830eaf9026093ab7debf7e0ebf9e9d34ae031f61c85b95a80f4ff1f77"
   }
  }
 },
 "nbformat": 4,
 "nbformat_minor": 2
}
